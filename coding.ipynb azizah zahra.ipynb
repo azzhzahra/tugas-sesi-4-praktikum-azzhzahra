{
 "cells": [
  {
   "cell_type": "code",
   "execution_count": 1,
   "id": "d8b9c381",
   "metadata": {},
   "outputs": [
    {
     "name": "stdout",
     "output_type": "stream",
     "text": [
      "Totalbelanja =  166000\n",
      "Totaldiskon =  8300.0\n",
      "Total_setelah_diskon =  157700.0\n"
     ]
    }
   ],
   "source": [
    "a = hepitos = 15000 * 3\n",
    "b = silperkuin = 21000 * 2 \n",
    "c = telor = 13000 * 2\n",
    "d = beras = 20000 * 2\n",
    "e = isiUlangGalon = 13000 \n",
    "\n",
    "Totalharga = a + b + c + d + e\n",
    "diskon = Totalharga * 0.05\n",
    "Total_setelah_diskon = Totalharga - diskon \n",
    "print(\"Totalbelanja = \", Totalharga)\n",
    "print(\"Totaldiskon = \", diskon)\n",
    "print(\"Total_setelah_diskon = \", Total_setelah_diskon)"
   ]
  },
  {
   "cell_type": "code",
   "execution_count": 2,
   "id": "a0c76e76",
   "metadata": {},
   "outputs": [
    {
     "name": "stdout",
     "output_type": "stream",
     "text": [
      "total_tabung:  800000\n"
     ]
    }
   ],
   "source": [
    "total_hari = 31\n",
    "total_tabung = 0 \n",
    "\n",
    "tanggal = 1\n",
    "while(tanggal <= total_hari): \n",
    "    \n",
    "    if(tanggal % 5 == 0):\n",
    "     total_tabung += 5000\n",
    "    elif(tanggal % 2 != 0):\n",
    "     total_tabung += 50000\n",
    "    else:\n",
    "     total_tabung += 10000\n",
    "        \n",
    "    tanggal += 1\n",
    "    \n",
    "print(\"total_tabung: \",total_tabung)\n"
   ]
  },
  {
   "cell_type": "code",
   "execution_count": 3,
   "id": "128a5f4d",
   "metadata": {},
   "outputs": [
    {
     "name": "stdout",
     "output_type": "stream",
     "text": [
      "semua pecahan ada\n",
      "100 lembar 20 rbu =  2000000\n",
      "50 lembar 10 rbu =  500000\n",
      "400 lembar 5 rbu =  2000000\n",
      "250 lembar 2 rbu =  500000\n",
      "totalnya adalah = 5000000\n",
      "hanya pecahan 20rbu, 10rbu dan 5rbu\n",
      "100 lembar 20 rbu = 2000000\n",
      "50 lembar 10 rbu = 500000\n",
      "500 lembar 5 rbu = 2500000\n",
      "totalnya adalah = 5000000\n",
      "hanya pecahan 20rbu, 10rbu dan 2rbu\n",
      "100 lembar 20 rbu = 2000000\n",
      "50 lembar 10 rbu = 500000\n",
      "1250 lembar 2 rbu = 2500000\n",
      "totalnya adalah = 5000000\n"
     ]
    }
   ],
   "source": [
    "rupiah_20 = 20_000 * 100\n",
    "rupiah_10 = 10_000 * 50\n",
    "rupiah_5 = 5000 * 400\n",
    "rupiah_2 = 2000 * 250\n",
    "jumlah_3_a = rupiah_20 + rupiah_10 + rupiah_5 + rupiah_2\n",
    "\n",
    "print(\"semua pecahan ada\")\n",
    "print(\"100 lembar 20 rbu = \",rupiah_20)\n",
    "print(\"50 lembar 10 rbu = \",rupiah_10)\n",
    "print(\"400 lembar 5 rbu = \",rupiah_5)\n",
    "print(\"250 lembar 2 rbu = \",rupiah_2)\n",
    "print(\"totalnya adalah =\",jumlah_3_a)\n",
    "\n",
    "rupiah_5_2 = 5000 * 500\n",
    "jumlah_3_b = rupiah_20 + rupiah_10 + rupiah_5_2\n",
    "print(\"hanya pecahan 20rbu, 10rbu dan 5rbu\")\n",
    "print(\"100 lembar 20 rbu =\",rupiah_20)\n",
    "print(\"50 lembar 10 rbu =\",rupiah_10)\n",
    "print(\"500 lembar 5 rbu =\",rupiah_5_2)\n",
    "print(\"totalnya adalah =\",jumlah_3_b)\n",
    "\n",
    "rupiah_2_2 = 2000 * 1250\n",
    "jumlah_3_c = rupiah_20 + rupiah_10 + rupiah_2_2\n",
    "print(\"hanya pecahan 20rbu, 10rbu dan 2rbu\")\n",
    "print(\"100 lembar 20 rbu =\",rupiah_20)\n",
    "print(\"50 lembar 10 rbu =\",rupiah_10)\n",
    "print(\"1250 lembar 2 rbu =\",rupiah_2_2)\n",
    "print(\"totalnya adalah =\",jumlah_3_c)\n",
    "\n",
    "\n",
    "      "
   ]
  },
  {
   "cell_type": "code",
   "execution_count": 4,
   "id": "33e59daf",
   "metadata": {},
   "outputs": [
    {
     "name": "stdout",
     "output_type": "stream",
     "text": [
      "hasil dari (10/23-6+4-(20//3%2) = -1.5652173913043477\n",
      "hasil analisa\n",
      "1. terdapat operator bagi dan kurang = 10/23-6 = -5.565217391304348\n",
      "2. terdapat operator pembaian dibulatkan dan sisa bagi = 4 - (20 // 3 % 2) = 4\n",
      "hasil setelah ditambahkan adalah = -1.5652173913043477\n"
     ]
    }
   ],
   "source": [
    "hasil = (10/23-6+4-(20//3%2))\n",
    "print(\"hasil dari (10/23-6+4-(20//3%2) =\",hasil)\n",
    "print(\"hasil analisa\")\n",
    "\n",
    "\n",
    "operator_bagi_kurang = 10/23-6 \n",
    "operator_bagi_sisabagi = 4 - (20 // 3 % 2)\n",
    "print(\"1. terdapat operator bagi dan kurang = 10/23-6 =\",operator_bagi_kurang)\n",
    "print(\"2. terdapat operator pembaian dibulatkan dan sisa bagi = 4 - (20 // 3 % 2) =\",operator_bagi_sisabagi)\n",
    "print(\"hasil setelah ditambahkan adalah =\",operator_bagi_kurang + operator_bagi_sisabagi)\n"
   ]
  },
  {
   "cell_type": "code",
   "execution_count": 5,
   "id": "e9437611",
   "metadata": {},
   "outputs": [
    {
     "name": "stdout",
     "output_type": "stream",
     "text": [
      "NURAZIZAH ZAHRA\n"
     ]
    }
   ],
   "source": [
    "huruf = \"UFLOPYXTKJACSWRBGQZVDMEHIN\"\n",
    "\n",
    "print(huruf[25]+huruf[0]+huruf[14]+huruf[10]+huruf[18]+huruf[24]+huruf[18]+huruf[10]+huruf[23],huruf[18]+huruf[10]+huruf[23]+huruf[14]+huruf[10])\n"
   ]
  },
  {
   "cell_type": "code",
   "execution_count": 6,
   "id": "45854180",
   "metadata": {},
   "outputs": [
    {
     "name": "stdout",
     "output_type": "stream",
     "text": [
      "tugas coding ipynb azizah zahra selesai\n",
      "tugas dasar pemprograman sesi 4\n"
     ]
    }
   ],
   "source": [
    "print(\"tugas coding ipynb azizah zahra selesai\")\n",
    "print(\"tugas dasar pemprograman sesi 4\")"
   ]
  }
 ],
 "metadata": {
  "kernelspec": {
   "display_name": "Python 3 (ipykernel)",
   "language": "python",
   "name": "python3"
  },
  "language_info": {
   "codemirror_mode": {
    "name": "ipython",
    "version": 3
   },
   "file_extension": ".py",
   "mimetype": "text/x-python",
   "name": "python",
   "nbconvert_exporter": "python",
   "pygments_lexer": "ipython3",
   "version": "3.9.12"
  }
 },
 "nbformat": 4,
 "nbformat_minor": 5
}
